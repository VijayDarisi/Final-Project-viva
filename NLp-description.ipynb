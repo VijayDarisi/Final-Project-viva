{
 "cells": [
  {
   "cell_type": "code",
   "execution_count": 1,
   "metadata": {},
   "outputs": [
    {
     "name": "stdout",
     "output_type": "stream",
     "text": [
      "Wound data has been saved successfully!\n"
     ]
    }
   ],
   "source": [
    "from transformers import BertTokenizer, BertForSequenceClassification\n",
    "from transformers import Trainer, TrainingArguments\n",
    "from sklearn.model_selection import train_test_split\n",
    "from datasets import Dataset\n",
    "import torch\n",
    "\n",
    "# Step 1: Load data (same as before)\n",
    "with open(\"wound_data.txt\", \"r\") as file:\n",
    "    wound_data_loaded = json.load(file)\n",
    "\n",
    "# Step 2: Convert data to a Hugging Face Dataset format\n",
    "X = list(wound_data_loaded.keys())  # Wound descriptions\n",
    "y = list(wound_data_loaded.values())  # Wound types\n",
    "\n",
    "# Map labels to integer values\n",
    "label_dict = {'cut': 0, 'burn': 1, 'bruise': 2, 'diabetic': 3, 'surgical': 4, 'abrasion': 5, 'pressure': 6, 'venous': 7, 'laceration': 8, 'normal': 9}\n",
    "y = [label_dict[label] for label in y]\n",
    "\n",
    "dataset = Dataset.from_dict({'text': X, 'label': y})\n",
    "\n",
    "# Step 3: Tokenize data using BERT's tokenizer\n",
    "tokenizer = BertTokenizer.from_pretrained('bert-base-uncased')\n",
    "\n",
    "def tokenize_function(examples):\n",
    "    return tokenizer(examples['text'], padding=\"max_length\", truncation=True)\n",
    "\n",
    "# Apply tokenization to the dataset\n",
    "dataset = dataset.map(tokenize_function, batched=True)\n",
    "\n",
    "# Step 4: Split data into training and validation sets\n",
    "train_dataset, eval_dataset = dataset.train_test_split(test_size=0.2).values()\n",
    "\n",
    "# Step 5: Define the model\n",
    "model = BertForSequenceClassification.from_pretrained('bert-base-uncased', num_labels=len(label_dict))\n",
    "\n",
    "# Step 6: Setup Trainer with training arguments\n",
    "training_args = TrainingArguments(\n",
    "    output_dir='./results',          \n",
    "    num_train_epochs=3,              \n",
    "    per_device_train_batch_size=8,  \n",
    "    per_device_eval_batch_size=16,  \n",
    "    warmup_steps=500,               \n",
    "    weight_decay=0.01,              \n",
    "    logging_dir='./logs',           \n",
    ")\n",
    "\n",
    "trainer = Trainer(\n",
    "    model=model,                         \n",
    "    args=training_args,                  \n",
    "    train_dataset=train_dataset,         \n",
    "    eval_dataset=eval_dataset             \n",
    ")\n",
    "\n",
    "# Step 7: Train the model\n",
    "trainer.train()\n",
    "\n",
    "# Step 8: Evaluate the model\n",
    "eval_results = trainer.evaluate()\n",
    "print(f\"Evaluation results: {eval_results}\")\n",
    "\n",
    "# Step 9: Example usage for new text prediction\n",
    "new_description = [\"Minor cut on the finger, needs to be cleaned\"]\n",
    "inputs = tokenizer(new_description, return_tensors='pt', padding=True, truncation=True)\n",
    "logits = model(**inputs).logits\n",
    "predicted_class = torch.argmax(logits, dim=-1)\n",
    "\n",
    "# Convert the class id back to label\n",
    "inv_label_dict = {v: k for k, v in label_dict.items()}\n",
    "print(f\"Prediction for new description: {inv_label_dict[predicted_class.item()]}\")"
   ]
  },
  {
   "cell_type": "code",
   "execution_count": null,
   "metadata": {},
   "outputs": [],
   "source": []
  }
 ],
 "metadata": {
  "kernelspec": {
   "display_name": "base",
   "language": "python",
   "name": "python3"
  },
  "language_info": {
   "codemirror_mode": {
    "name": "ipython",
    "version": 3
   },
   "file_extension": ".py",
   "mimetype": "text/x-python",
   "name": "python",
   "nbconvert_exporter": "python",
   "pygments_lexer": "ipython3",
   "version": "3.11.7"
  }
 },
 "nbformat": 4,
 "nbformat_minor": 2
}
